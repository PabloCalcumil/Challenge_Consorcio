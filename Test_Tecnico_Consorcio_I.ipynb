{
  "nbformat": 4,
  "nbformat_minor": 0,
  "metadata": {
    "colab": {
      "provenance": []
    },
    "kernelspec": {
      "name": "python3",
      "display_name": "Python 3"
    },
    "language_info": {
      "name": "python"
    }
  },
  "cells": [
    {
      "cell_type": "markdown",
      "source": [
        "# Test Técnico Consorcio\n",
        "\n",
        "<h2> Autor: Pablo Calcumil Alarcón </h2>\n",
        "<h4> Fecha: 11 de Marzo de 2024 </h4>\n",
        "\n",
        "<hr>\n",
        "\n",
        "## ___Parte 1___\n",
        "\n",
        "### Enunciado\n",
        "\n",
        "Después de años de estudio, los científicos han descubierto una lengua extraterrestre transmitida desde un planeta lejano. El lenguaje alienígena es único en el sentido en que cada palabra es única ya que consta exactatemente de __L__ letras minúsculas. Además, hay exactamente __D__ palabras en este idioma.\n",
        "\n",
        "Una vez que se construyó el diccionario de todas las palabras en el idioma alienígena, el siguiente avance fue descubrir que los alienígenas han estado transmitiendo mensajes a la Tierra durante la última decada. Desafortunadamente, estas señales se debilitan debido a la distancia entre nuestros dos planetas y algunas de las palabras pueden malinterpretarse. Para ayudarlos a descifrar estos mensajes, los científicos te han pedido que diseñes un algoritmo que determinará el número de posibles interpretaciones para un patrón dado.\n",
        "\n",
        "Un patrón consta de __L__ tokens. Cada token es una sola letra minúscula (los científicos están seguros de que esta es la letra) o un grupo de letras únicas. Por ejemplo: __(ab)d(dc)__ significa que la primera letra es la __a__ o __b__, la segunda letra es definitivamente la __d__ y la última letra es __d__ o __c__. Por lo tanto, el patrón __(ab)d(dc)__ puede representar cualquiera de estas 4 posibilidades: __add__, __adc__, __bdd__ y __bdc__.\n",
        "\n",
        "<br>\n",
        "\n",
        "### Entrada\n",
        "\n",
        "La primera línea de entrada contiene 3 números enteros __L__, __D__ y __N__ separados por un espacio. Siguen __D__ líneas, cada una con una palabra de longitud __L__. Estas son palabras que se sabe que existen en lengua alienígena, luego siguen __N__ casos de prueba, cada uno en su propia línea y cada uno consiste en un patrón descrito anteriormente. ___Puede suponer que que todas las palabras conocidas proporcionadas son únicas___.\n",
        "\n",
        "<br>\n",
        "\n",
        "### Salida\n",
        "\n",
        "Para cada caso de prueba, la salida\n",
        "\n",
        "Case #X: K\n",
        "\n",
        "donde X es el número del caso de prueba, empezando por 1 y K indica cuántas palabras en el lenguaje alien cumplen con el patrón:\n",
        "\n",
        "<div align=\"center\" style=\"font-size: 150%\">\n",
        "<table>\n",
        "  <thead>\n",
        "    <tr>\n",
        "      <td rowspan=4 align=\"center\"><strong> Entrada </strong></td>\n",
        "      <td rowspan=4 align=\"center\"><strong> Salida </strong></td>\n",
        "    </tr>\n",
        "  </thead>\n",
        "  <tbody>\n",
        "    <tr>\n",
        "      <td rowspan=4>3 5 4</td>\n",
        "      <td rowspan=4>Case #1: 2</td>\n",
        "    </tr>\n",
        "  </tbody>\n",
        "  <tbody>\n",
        "    <tr>\n",
        "      <td rowspan=4>abc</td>\n",
        "      <td rowspan=4>Case #2: 1</td>\n",
        "    </tr>\n",
        "  </tbody>\n",
        "  <tbody>\n",
        "    <tr>\n",
        "      <td rowspan=4>bca</td>\n",
        "      <td rowspan=4>Case #3: 3</td>\n",
        "    </tr>\n",
        "  </tbody>\n",
        "  <tbody>\n",
        "    <tr>\n",
        "      <td rowspan=4>dac</td>\n",
        "      <td rowspan=4>Case #4: 0</td>\n",
        "    </tr>\n",
        "  </tbody>\n",
        "  <tbody>\n",
        "    <tr>\n",
        "      <td rowspan=4>dbc</td>\n",
        "      <td rowspan=4></td>\n",
        "    </tr>\n",
        "  </tbody>\n",
        "  <tbody>\n",
        "    <tr>\n",
        "      <td rowspan=4>cba</td>\n",
        "      <td rowspan=4></td>\n",
        "    </tr>\n",
        "  </tbody>\n",
        "  <tbody>\n",
        "    <tr>\n",
        "      <td rowspan=4>(ab)(bc)(ca)</td>\n",
        "      <td rowspan=4></td>\n",
        "    </tr>\n",
        "  </tbody>\n",
        "  <tbody>\n",
        "    <tr>\n",
        "      <td rowspan=4>abc</td>\n",
        "      <td rowspan=4></td>\n",
        "    </tr>\n",
        "  </tbody>\n",
        "  <tbody>\n",
        "    <tr>\n",
        "      <td rowspan=4>(abc)(abc)(abc)</td>\n",
        "      <td rowspan=4></td>\n",
        "    </tr>\n",
        "  </tbody>\n",
        "  <tbody>\n",
        "    <tr>\n",
        "      <td rowspan=4>(xyz)(bc)</td>\n",
        "      <td rowspan=4></td>\n",
        "    </tr>\n",
        "  </tbody>\n",
        "</table>\n",
        "</div>\n",
        "\n",
        "<br>\n",
        "<br>\n",
        "\n",
        "### Entregables\n",
        "\n",
        "* Programa en Python que cumpla con el algoritmo que determinará el número de posibles interpretaciones para un patrón dado. ___(No utilizar librerías de ningún tipo)___.\n",
        "\n",
        "* Código fuente documentado y autodescriptivo (En repositorio Github). El repositorio debe incluir un archivo README con toda la información que se estime relevante.\n",
        "\n",
        "<br>\n",
        "\n",
        "### Pista:\n",
        "\n",
        "En la entrada la primera línea \"3 4 5\" indica lo que viene a continuación, lo que constituye toda la entrada. Entonces el 3 dice que las palabras son de largo 3, el siguiente significa  que solo existen 5 palabras, y finalmente que en la entrada vienen 4 casos de prueba.\n",
        "\n",
        "\n"
      ],
      "metadata": {
        "id": "_vsnB9SrbaUZ"
      }
    },
    {
      "cell_type": "markdown",
      "source": [
        "### Funciones\n",
        "\n",
        "Las siguientes funciones forman el algoritmo que determina el número de posibles interpretaciones."
      ],
      "metadata": {
        "id": "ytk4LvZLu4z0"
      }
    },
    {
      "cell_type": "code",
      "execution_count": 1,
      "metadata": {
        "id": "ltk5r58EbHxM"
      },
      "outputs": [],
      "source": [
        "def possible_words(lista):\n",
        "  '''\n",
        "  Esta funcion forma una lista con todas las palabras que se puedan formar con los patrones entregados.\n",
        "\n",
        "  Inputs:\n",
        "      lista (list): Lista con un patron seccionado por la funcion break_patterns, es decir, la lista\n",
        "                    contiene los tokens unicos separados, mientras que el grupo de posibles tokens\n",
        "                    los tiene juntos para poder formar las distintas combinaciones con ellos.\n",
        "\n",
        "  Outputs:\n",
        "      list_final (list): Lista con todas las posibles combinaciones formadas por los tokens posibles\n",
        "                         y los tokens seguros.\n",
        "  '''\n",
        "  #Lista final con las combinaciones de las posibles palabras\n",
        "  list_final = []\n",
        "  #Se recorren las diferentes letras de la palabra\n",
        "  for char in lista:\n",
        "    #Lista auxiliar para no mezclar la lista final\n",
        "    list_aux = list_final.copy()\n",
        "    #Caso donde las letras van si o si en la palabra\n",
        "    if len(char) == 1:\n",
        "      #Por si el patron empieza con una letra que si o si va en la palabra\n",
        "      if len(list_aux) == 0:\n",
        "        list_aux.append(char)\n",
        "      #Por si la letra segura va despues del comienzo\n",
        "      else:\n",
        "        list_aux = [character + char for character in list_aux]\n",
        "    #Caso de las posibles letras (Combinaciones)\n",
        "    else:\n",
        "      #Lista con ramificaciones de las combinaciones de las palabras para cada posible letra (Se trabaja como matriz)\n",
        "      list_aux2 = [list_aux.copy() for i in range(len(char))]\n",
        "      #Se recorre cada lista para formar las ramificaciones con las distintas letras\n",
        "      for i in range(0, len(char)):\n",
        "        #Por si el patron comienza con una combinacion de letras\n",
        "        if len(list_aux2[i]) == 0:\n",
        "          list_aux2[i].append(char[i])\n",
        "        #Por si la combinacion de letras es despues del comienzo\n",
        "        else:\n",
        "          list_aux2[i] = [element + char[i] for element in list_aux2[i]]\n",
        "      #Cambiamos dimension de matriz a vector (para tener solo una lista de las combinaciones)\n",
        "      list_aux = [element for sublist in list_aux2 for element in sublist]\n",
        "    #Copiamos para entregar a la lista final\n",
        "    list_final = list_aux.copy()\n",
        "  return list_final\n",
        "\n",
        "#---------------------------------------------------------------------------------------------------------------------------\n",
        "\n",
        "def break_patterns(string):\n",
        "  '''\n",
        "  Esta funcion agrega a una lista todas los tokens del patron, pero hace la distincion entre el grupo de posibles tokens\n",
        "  y los tokens que seguro van en el patron. Cuando se topa con el grupo de tokens (presencia de parentesis), esta los\n",
        "  agrega a la lista unidas, para diferenciar cuando se agrega una combinacion de posibles tokens en el patron, en cambio\n",
        "  si los tokens van seguras, los agrega solos.\n",
        "\n",
        "  Inputs:\n",
        "      string (str): Patron de prueba para el idioma alienigena.\n",
        "\n",
        "  Outputs:\n",
        "      final_list (list): Lista de strings, donde cada string es un token de las palabras, o una combinacion de posibles\n",
        "                         tokens.\n",
        "  '''\n",
        "  #Lista final y contador para el while\n",
        "  final_list, count = [], 0\n",
        "  #Nos mantenemos en el while hasta que el contador sea mayor al largo del string\n",
        "  while count < len(string):\n",
        "    #Tomamos el string por su posicion para trabajar\n",
        "    sub_string = string[count]\n",
        "    #Si nos topamos con un abrir parentesis, es por el grupo de posibles letras en el patron\n",
        "    if sub_string == '(':\n",
        "      #Empezamos a capturar el grupo de posibles letras en el patron\n",
        "      str_aux = string[count + 1]\n",
        "      for str_aux2 in string[count + 2 :]:\n",
        "        #Si nos encontramos con el cierre de parentesis ya capturamos todo el grupo de posibles letras\n",
        "        if str_aux2 == ')':\n",
        "          break\n",
        "        #Caso contrario lo unimos al grupo\n",
        "        else:\n",
        "          str_aux = str_aux + str_aux2\n",
        "      #Capturamos el grupo completo de posibles letras del patron y agregamos a la lista final\n",
        "      final_list.append(str_aux)\n",
        "      #Sumamos sus posiciones para no encontrarnos nuevamente con el grupo (+2 por las posiciones de los parentesis)\n",
        "      count = count + len(str_aux) + 2\n",
        "    #Caso donde las letras son 100% seguras de que van en la palabra, agregamos directamente a la lista final\n",
        "    else:\n",
        "      final_list.append(sub_string)\n",
        "      #Sumamos posicion\n",
        "      count = count + 1\n",
        "  return final_list\n",
        "\n",
        "#---------------------------------------------------------------------------------------------------------------------------\n",
        "\n",
        "def pattern_interpreter(texto):\n",
        "  '''\n",
        "  Esta funcion entrega el número de posibles interpretaciones de un patrón dado, para el idioma alienigena captado por\n",
        "  los cientificos.\n",
        "\n",
        "  Inputs:\n",
        "      texto (str): Texto con primera linea los numeros L, D y N, donde L es el largo de las palabras, D es la cantidad\n",
        "                   de palabras que tiene el idioma y L es la cantidad de patrones de prueba.\n",
        "\n",
        "  Outputs:\n",
        "      Sin outputs. Esta funcion printeara la cantidad de posibles interpretaciones de las pruebas de patrones realizadas.\n",
        "  '''\n",
        "  #Lineas del texto\n",
        "  lines_text = texto.splitlines()\n",
        "  #Capturando informacion (L: largo palabras del idioma, D: idioma, N: patrones)\n",
        "  L, D, N = lines_text[0].split()\n",
        "  L, D, N = int(L), int(D), int(N)\n",
        "  #------------------------ Capturando el idioma ------------------------\n",
        "  #Se pensaba usar compresion, pero si la palabra no cumple el largo se sale de la funcion\n",
        "  list_languaje = []\n",
        "  for i in range(1, D + 1):\n",
        "    #Si no se cumple largo, OUT\n",
        "    if len(lines_text[i]) != L:\n",
        "      return f'Largo equivocado de la palabra \"{lines_text[i]}\" en el idioma alienigena!'\n",
        "    #Si se cumple el largo agregamos la palabra a la lista conformada por el idioma\n",
        "    else:\n",
        "      list_languaje.append(lines_text[i])\n",
        "  #------------------------- Capturando patrones ------------------------\n",
        "  list_pattern = [lines_text[i] for i in range(D + 1, D + 1 + N)]\n",
        "  #----------------- Contando posibles interpretaciones -----------------\n",
        "  #Se realiza el conteo de las posibles interpretaciones\n",
        "  for i, patron in enumerate(list_pattern):\n",
        "    #Se secciona el patron en partes indicando tokens seguros y combinacion de posibles tokens\n",
        "    list_break_patterns = break_patterns(patron)\n",
        "    #Se forma lista con todas las posibles combinaciones formadas por el patron entregado\n",
        "    list_possible_words = possible_words(list_break_patterns)\n",
        "    #Se realiza una interseccion de conjuntos para sumar las posibles interpretaciones\n",
        "    count_possible_interp = len(set(list_possible_words).intersection(set(list_languaje)))\n",
        "    #Printeamos como se debe\n",
        "    print(f'Case {i + 1}#: {count_possible_interp}')\n",
        "\n",
        "#---------------------------------------------------------------------------------------------------------------------------"
      ]
    },
    {
      "cell_type": "markdown",
      "source": [
        "### Pruebas\n",
        "\n",
        "Se desarrollan algunas pruebas."
      ],
      "metadata": {
        "id": "ofxdbfMbvPa1"
      }
    },
    {
      "cell_type": "code",
      "source": [
        "text = '''3 5 4\n",
        "abc\n",
        "bca\n",
        "dac\n",
        "dbc\n",
        "cba\n",
        "(ab)(bc)(ca)\n",
        "abc\n",
        "(abc)(abc)(abc)\n",
        "(xyz)(bc)'''\n",
        "\n",
        "pattern_interpreter(text)"
      ],
      "metadata": {
        "colab": {
          "base_uri": "https://localhost:8080/"
        },
        "id": "U6JoriZJVK7T",
        "outputId": "4f0f6201-605c-4442-f579-f39a598bcf1f"
      },
      "execution_count": 2,
      "outputs": [
        {
          "output_type": "stream",
          "name": "stdout",
          "text": [
            "Case 1#: 2\n",
            "Case 2#: 1\n",
            "Case 3#: 3\n",
            "Case 4#: 0\n"
          ]
        }
      ]
    },
    {
      "cell_type": "code",
      "source": [
        "text2 = '''5 6 4\n",
        "abcde\n",
        "edabc\n",
        "dabbe\n",
        "bcdeb\n",
        "aaaaa\n",
        "bdabd\n",
        "(abcde)(abcde)(abcde)(abcde)(abcde)\n",
        "dabbe\n",
        "(abcde)dab(abc)\n",
        "(ab)(bcd)(acd)(xyt)a\n",
        "'''\n",
        "pattern_interpreter(text2)"
      ],
      "metadata": {
        "colab": {
          "base_uri": "https://localhost:8080/"
        },
        "id": "9rWyWDDYtxNz",
        "outputId": "af8f75cc-df13-4d98-9d3e-52aaae3a4940"
      },
      "execution_count": 3,
      "outputs": [
        {
          "output_type": "stream",
          "name": "stdout",
          "text": [
            "Case 1#: 6\n",
            "Case 2#: 1\n",
            "Case 3#: 1\n",
            "Case 4#: 0\n"
          ]
        }
      ]
    },
    {
      "cell_type": "code",
      "source": [
        "text3 = '''3 5 4\n",
        "abc\n",
        "bca\n",
        "ddd\n",
        "xyd\n",
        "xya\n",
        "x(ad)y\n",
        "(abd)(bcd)(acd)\n",
        "xy(abc)\n",
        "(dxy)y(ad)\n",
        "'''\n",
        "\n",
        "pattern_interpreter(text3)"
      ],
      "metadata": {
        "colab": {
          "base_uri": "https://localhost:8080/"
        },
        "id": "v6idvMgAu28D",
        "outputId": "53b93518-49ad-482a-c22e-8cf618bd2d2d"
      },
      "execution_count": 4,
      "outputs": [
        {
          "output_type": "stream",
          "name": "stdout",
          "text": [
            "Case 1#: 0\n",
            "Case 2#: 3\n",
            "Case 3#: 1\n",
            "Case 4#: 2\n"
          ]
        }
      ]
    },
    {
      "cell_type": "markdown",
      "source": [
        "<hr>\n",
        "\n",
        "El largo de las palabras del idioma pareciera ser importante, mientras que para el patrón no (hay un ejemplo donde el largo es de 2 para el patrón, y para el idioma es de 3). Es por ello que se agrega un condicional en el largo del lenguaje y si este no se cumple la funcion retorna sin contar.\n",
        "\n",
        "Ejemplo:"
      ],
      "metadata": {
        "id": "rEEwLZoSyVW9"
      }
    },
    {
      "cell_type": "code",
      "source": [
        "text4 = '''2 3 2\n",
        "ab\n",
        "ad\n",
        "acv\n",
        "(ab)(cd)\n",
        "ac\n",
        "'''\n",
        "\n",
        "pattern_interpreter(text4)"
      ],
      "metadata": {
        "colab": {
          "base_uri": "https://localhost:8080/",
          "height": 35
        },
        "id": "WRCkr8lGyLw1",
        "outputId": "426ad682-8a29-442a-ac57-ce4087dc031d"
      },
      "execution_count": 5,
      "outputs": [
        {
          "output_type": "execute_result",
          "data": {
            "text/plain": [
              "'Largo equivocado de la palabra \"acv\" en el idioma alienigena!'"
            ],
            "application/vnd.google.colaboratory.intrinsic+json": {
              "type": "string"
            }
          },
          "metadata": {},
          "execution_count": 5
        }
      ]
    },
    {
      "cell_type": "markdown",
      "source": [
        "<hr>\n",
        "\n",
        "### ___Anotaciones y Dudas___\n",
        "\n",
        "1. Para la conformación de la lengua alienígena el parámetro ___L___ determina el largo de las palabras (cantidad de tokens), es por ello que se le da un rol importante a la hora de ingresar las palabras. Si este largo no se cumple, el programa no sigue con el conteo. Por otro lado, para los patrones es distinto, pues hay un ejemplo en el documento donde se indica que el largo de las palabras es de 3, mientras que el patrón sugiere palabras de largo 2 `(xyz)(bc)`, por lo que se puede ver que el largo del patrón no tiene importancia, así que se omite.\n",
        "\n",
        "2. Qué ocurre si en la conformación del idioma se entrega una palabra repetida? Se suma como posible interpretación o no?\n",
        "\n",
        "> En el documento se indica que se puede asumir la no repetición de las palabras en el idioma, pero si esto no se debe asumir el código no cambia mucho. Solo se debe ver si se suma como posible interpretación o no, pues para entregar este número se uso la intersección de conjuntos de Python, pero se trabajó mayoritariamente con listas, por lo que se debe cambiar la forma de sumar estas intersecciones en caso de que haya palabras repetidas y estas si contasen como otra posible interpretación.\n",
        "\n",
        "3. Durante el desarrollo se asumió que la entrega del algoritmo sería solo un string, pero si la entrega al algoritmo es un archivo, solo se agrega `with open(file_name, \"r\") as file:` a la función `pattern_interpreter()`, y se sigue leyendo con el `.splitlines()`. Por otro lado, utilizando la función `input()`, se puede entregar por consola los números, las palabras del idioma y los patrones."
      ],
      "metadata": {
        "id": "J28QqDWnMYcH"
      }
    }
  ]
}